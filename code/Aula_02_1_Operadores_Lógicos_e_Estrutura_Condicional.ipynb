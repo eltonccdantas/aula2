{
  "nbformat": 4,
  "nbformat_minor": 0,
  "metadata": {
    "colab": {
      "provenance": []
    },
    "kernelspec": {
      "name": "python3",
      "display_name": "Python 3"
    }
  },
  "cells": [
    {
      "cell_type": "markdown",
      "metadata": {
        "id": "9ujEVvoCTM6p"
      },
      "source": [
        "<img src=\"https://www.cesar.school/wp-content/uploads/2019/09/marca_cesar_school.png\" alt=\"drawing\" width=\"200\"/>\n",
        "\n",
        "# Python - **Aula 02.1**\n",
        "\n",
        "---\n",
        "\n",
        "- Entender conceitos básicos sobre programação;\n",
        "- Operadores lógicos;\n",
        "- Estruturas Condicionais;\n"
      ]
    },
    {
      "cell_type": "markdown",
      "metadata": {
        "id": "zAWgCzEXyWGU"
      },
      "source": [
        "# Operadores Lógicos"
      ]
    },
    {
      "cell_type": "markdown",
      "metadata": {
        "id": "rzDS1hUgwxsN"
      },
      "source": [
        "## Operadores Relacionais\n",
        "\n",
        "Uma condição é o estabelecimento de uma relação lógica entre dois elementos. Para definir uma relação lógica é necessário usar operadores relacionais. Uma relação lógica (comparação) retorna somente os valores verdadeiro (`True`) ou falso (`False`).\n",
        "\n",
        "* Igual a: `x == y`\n",
        "* Maior que: `x > y`\n",
        "* Menor que: `x < y`\n",
        "* Maior ou igual a: `x >= y`\n",
        "* Menor ou igual a: `x <= y`\n",
        "* Diferente de: `x != y`\n",
        "\n",
        "> Sobre uso de operadores relacionais com strings [aqui](https://careerkarma.com/blog/python-compare-strings/#:~:text=Python%20comparison%20operators%20can%20be,equal%20to%20(%20>%3D%20).)."
      ]
    },
    {
      "cell_type": "code",
      "metadata": {
        "id": "LrgPw5AZWYBY",
        "colab": {
          "base_uri": "https://localhost:8080/"
        },
        "outputId": "59101820-07d4-4c7f-f0f2-4891398efb2d"
      },
      "source": [
        "x = 10\n",
        "y = 5\n",
        "z = 1\n",
        "print(x < y)\n",
        "print(z < x)\n",
        "print(z < x > y)"
      ],
      "execution_count": null,
      "outputs": [
        {
          "output_type": "stream",
          "name": "stdout",
          "text": [
            "False\n",
            "True\n",
            "True\n"
          ]
        }
      ]
    },
    {
      "cell_type": "markdown",
      "metadata": {
        "id": "oXrQs1SBS4Nh"
      },
      "source": [
        "## Operadores de Identidade\n",
        "\n",
        "Semelhante aos operadores relacionais, são semânticamente mais legiveis e podem ser usados para comparar ou diferenciar, dois objetos:\n",
        "\n",
        "- `is`\n",
        "- `is not`\n",
        "\n",
        "A diferencia primordial do uso dos operadores de identidade para os operadores relacionais é que os primeiros avaliam também o tipo dos dados (e a referência):\n",
        "\n",
        "```python\n",
        "print(10.0 == 10) # True\n",
        "print(10.0 is 10) # False\n",
        "```\n",
        "\n",
        "Mais detalhes sobre a diferença entre o `==` e o `is` [aqui](https://towardsdatascience.com/whats-the-difference-between-is-and-in-python-dc26406c85ad).\n",
        "\n",
        "> Obs.: Na ordem de precedência, os operadores relacionais ficam a frente"
      ]
    },
    {
      "cell_type": "code",
      "metadata": {
        "id": "woTxT_G1ocZ3",
        "colab": {
          "base_uri": "https://localhost:8080/"
        },
        "outputId": "e4561176-e126-470e-fa2f-93474b2d1595"
      },
      "source": [
        "valor = 5\n",
        "\n",
        "print(5 == 5.0)\n",
        "print(5 != 5)\n",
        "print(valor is 5)\n",
        "print(5 is not 5.0)\n",
        "print(type(5) == type(5.0))\n",
        "\n",
        "print(type(valor) == int)"
      ],
      "execution_count": null,
      "outputs": [
        {
          "output_type": "stream",
          "name": "stdout",
          "text": [
            "True\n",
            "False\n",
            "True\n",
            "True\n",
            "False\n",
            "True\n"
          ]
        },
        {
          "output_type": "stream",
          "name": "stderr",
          "text": [
            "<>:5: SyntaxWarning: \"is\" with a literal. Did you mean \"==\"?\n",
            "<>:6: SyntaxWarning: \"is not\" with a literal. Did you mean \"!=\"?\n",
            "<>:5: SyntaxWarning: \"is\" with a literal. Did you mean \"==\"?\n",
            "<>:6: SyntaxWarning: \"is not\" with a literal. Did you mean \"!=\"?\n",
            "<ipython-input-35-6d13fb7b39a4>:5: SyntaxWarning: \"is\" with a literal. Did you mean \"==\"?\n",
            "  print(valor is 5)\n",
            "<ipython-input-35-6d13fb7b39a4>:6: SyntaxWarning: \"is not\" with a literal. Did you mean \"!=\"?\n",
            "  print(5 is not 5.0)\n"
          ]
        }
      ]
    },
    {
      "cell_type": "code",
      "source": [
        "nome = 'gerson'\n",
        "\n",
        "print(nome < 'renatão')\n",
        "print('a' == 'A')\n",
        "print(ord('g'))\n",
        "\n",
        "novo_nome = nome\n",
        "print(nome is novo_nome)\n",
        "\n",
        "novo_nome = nome.lower() # cria uma nova string\n",
        "print(nome is novo_nome)\n",
        "print(nome == novo_nome)"
      ],
      "metadata": {
        "colab": {
          "base_uri": "https://localhost:8080/"
        },
        "id": "NrzD6BkAaTpY",
        "outputId": "521b7c07-da59-4886-d686-e962c91017ba"
      },
      "execution_count": null,
      "outputs": [
        {
          "output_type": "stream",
          "name": "stdout",
          "text": [
            "True\n",
            "False\n",
            "103\n",
            "True\n",
            "False\n",
            "True\n"
          ]
        }
      ]
    },
    {
      "cell_type": "markdown",
      "metadata": {
        "id": "AkKDg0Lxw3c4"
      },
      "source": [
        "## Operadores Lógicos\n",
        "\n",
        "São utilizados para uma mesma tomada de decisão que necessite de mais de uma condição. Também são conhecidos como operadores booleanos. Operadores lógicos retornam somente os valores verdadeiro ou falso.\n",
        "\n",
        "| Operador Lógico | Função    | Prioridade          |\n",
        "|-----------------|-----------|---------------------|\n",
        "| `not`           | Negação   | 1                   |\n",
        "| `and`           | Conjunção | 2                   |\n",
        "| `or`            | Disjunção | 3                   |"
      ]
    },
    {
      "cell_type": "code",
      "metadata": {
        "id": "DRUv3H5AsF8V",
        "colab": {
          "base_uri": "https://localhost:8080/"
        },
        "outputId": "b2b09ec6-fa36-4e60-916c-48714b2388a5"
      },
      "source": [
        "# or\n",
        "idade = 12\n",
        "acompanhada = True\n",
        "\n",
        "print(idade >= 18 or acompanhada or False or False)"
      ],
      "execution_count": null,
      "outputs": [
        {
          "output_type": "stream",
          "name": "stdout",
          "text": [
            "True\n"
          ]
        }
      ]
    },
    {
      "cell_type": "code",
      "source": [
        "# and\n",
        "idade = 12\n",
        "\n",
        "print(10 <= idade and idade <= 15)\n",
        "print(10 <= idade <= 15)\n",
        "\n",
        "print(True and True)\n",
        "print(True and False)\n",
        "print(False or 4 > 2)\n",
        "\n",
        "print(False or \"\")\n",
        "\n",
        "print(False or bool(\"\"))\n",
        "\n",
        "print(bool(50))\n",
        "\n",
        "print(False or \"\")\n",
        "\n",
        "print(5 >= 5 and False and (3 > 6 or 2 > 1))\n",
        "\n",
        "print(False or False or True or False and True)\n",
        "\n",
        "print(False or int)\n",
        "\n",
        "print(\"\" or False)\n",
        "print(str or False)\n",
        "\n",
        "var = \"\"\n",
        "print(var == \"\")"
      ],
      "metadata": {
        "colab": {
          "base_uri": "https://localhost:8080/"
        },
        "id": "1zyUCbpZe7jZ",
        "outputId": "62e96ca4-2eaf-470e-fc92-aba5e0045921"
      },
      "execution_count": null,
      "outputs": [
        {
          "output_type": "stream",
          "name": "stdout",
          "text": [
            "True\n",
            "True\n",
            "True\n",
            "False\n",
            "True\n",
            "\n",
            "False\n",
            "True\n",
            "\n",
            "False\n",
            "True\n",
            "<class 'int'>\n",
            "False\n",
            "<class 'str'>\n",
            "True\n"
          ]
        }
      ]
    },
    {
      "cell_type": "markdown",
      "metadata": {
        "id": "WsXf_ireWQZd"
      },
      "source": [
        "\n",
        "\n",
        "#Estruturas Condicionais\n",
        "\n",
        "Em Python, é possível controlar o fluxo de execução do código usando estruturas condicionais.\n",
        "\n"
      ]
    },
    {
      "cell_type": "markdown",
      "metadata": {
        "id": "zmalBcHrxAkw"
      },
      "source": [
        "## Estrutura Condicional Simples\n",
        "\n",
        "- `if`\n",
        "\n",
        "```python\n",
        "if condição:\n",
        "  # se for verdade\n",
        "```\n",
        "\n",
        "> Obs.: Python não possui marcadores de bloco explícitos (como as chaves `{}`). Desta forma, os blocos são definidos pela **identação**.\n"
      ]
    },
    {
      "cell_type": "code",
      "metadata": {
        "id": "12kCjeeyxEHI",
        "colab": {
          "base_uri": "https://localhost:8080/"
        },
        "outputId": "2c0dfc7f-4992-4aa4-c5a0-7a266f6c8477"
      },
      "source": [
        "nome = \"gerson\"\n",
        "\n",
        "if nome == 'gerson':\n",
        "    print('ta liberado')\n",
        "print('fora do if')"
      ],
      "execution_count": null,
      "outputs": [
        {
          "output_type": "stream",
          "name": "stdout",
          "text": [
            "ta liberado\n",
            "fora do if\n"
          ]
        }
      ]
    },
    {
      "cell_type": "markdown",
      "metadata": {
        "id": "4lZ3gYBwxIqw"
      },
      "source": [
        "## Estrutura Condicional Composta\n",
        "\n",
        "- `if`\n",
        "- `elif`\n",
        "- `else`\n",
        "\n",
        "```python\n",
        "if condição:\n",
        "  # se for verdade\n",
        "else:\n",
        "  # se não for verdade\n",
        "```\n",
        "\n",
        "```python\n",
        "if condição:\n",
        "  # se for verdade\n",
        "elif outra_condicao:\n",
        "  # se a outra condição for verdadeira\n",
        "else:\n",
        "  # se não for verdade\n",
        "```"
      ]
    },
    {
      "cell_type": "code",
      "metadata": {
        "id": "8CDRVqpCxL5N",
        "colab": {
          "base_uri": "https://localhost:8080/"
        },
        "outputId": "6460e6de-5020-4507-f1a0-bdb76696a3f5"
      },
      "source": [
        "if nome == 'Raphael':\n",
        "    print('ta liberado')\n",
        "else:\n",
        "    print('não esta liberado!')"
      ],
      "execution_count": null,
      "outputs": [
        {
          "output_type": "stream",
          "name": "stdout",
          "text": [
            "não esta liberado!\n"
          ]
        }
      ]
    },
    {
      "cell_type": "code",
      "metadata": {
        "id": "vKb7Mu1SxN8-",
        "colab": {
          "base_uri": "https://localhost:8080/"
        },
        "outputId": "c774f176-961b-4cba-9db3-465c27d3d21e"
      },
      "source": [
        "if nome == 'Raphael':\n",
        "    print('ta liberado')\n",
        "elif nome == 'gerson':\n",
        "    print('Gerson ta liberado')\n",
        "else:\n",
        "    print('não esta liberado!')\n",
        "# ------------------------\n",
        "if nome == 'Raphael':\n",
        "    print('ta liberado')\n",
        "else:\n",
        "    if nome == 'gerson':\n",
        "        print('Gerson ta liberado')\n",
        "    else:\n",
        "        print('não esta liberado!')"
      ],
      "execution_count": null,
      "outputs": [
        {
          "output_type": "stream",
          "name": "stdout",
          "text": [
            "Gerson ta liberado\n",
            "Gerson ta liberado\n"
          ]
        }
      ]
    },
    {
      "cell_type": "code",
      "source": [],
      "metadata": {
        "id": "WTEWIe6frBA2"
      },
      "execution_count": null,
      "outputs": []
    },
    {
      "cell_type": "markdown",
      "metadata": {
        "id": "ONQEKPoD5WRt"
      },
      "source": [
        "## Shorthand\n",
        "\n",
        "`if`:\n",
        "\n",
        "```python\n",
        "if (condição): (caso verdadeiro)\n",
        "```\n",
        "\n",
        "`if else`:\n",
        "\n",
        "```python\n",
        "(caso verdadeiro) if (condição) else (caso falso)\n",
        "```"
      ]
    },
    {
      "cell_type": "code",
      "metadata": {
        "id": "KRa8D_vB5l_B",
        "colab": {
          "base_uri": "https://localhost:8080/"
        },
        "outputId": "6f389ef0-e10f-494a-8c0e-19cb02090f92"
      },
      "source": [
        "print('deu certo') if nome == 'gerson' else print('deu errado')\n",
        "# print deu certo se o nome for igual a gerson, se não print deu errado\n",
        "# nome = 'gerson' ? print('deu certo') : print('deu errado')\n",
        "valor = 30 if nome == 'gerson' else 28\n",
        "print(valor)"
      ],
      "execution_count": null,
      "outputs": [
        {
          "output_type": "stream",
          "name": "stdout",
          "text": [
            "deu certo\n",
            "30\n"
          ]
        }
      ]
    },
    {
      "cell_type": "markdown",
      "metadata": {
        "id": "L1_5F0TnxazF"
      },
      "source": [
        "# Exercícios Fundamentais\n"
      ]
    },
    {
      "cell_type": "markdown",
      "metadata": {
        "id": "ALgn8jEOXI8m"
      },
      "source": [
        "1. Informe a saída das seguintes expressões:\n",
        "\n",
        "a)\n",
        "```python\n",
        "3 < 8 # True\n",
        "```\n",
        "\n",
        "b)\n",
        "```python\n",
        "a = 12\n",
        "b = a - 10\n",
        "a > b\n",
        "```\n",
        "\n",
        "c)\n",
        "```python\n",
        "16 != 16\n",
        "```\n",
        "\n",
        "d)\n",
        "```python\n",
        "2 < 5 > 10\n",
        "```\n",
        "\n",
        "e)\n",
        "```python\n",
        "3 <= 5 >= 2\n",
        "```"
      ]
    },
    {
      "cell_type": "code",
      "metadata": {
        "id": "h4ye6OPQWmFP",
        "colab": {
          "base_uri": "https://localhost:8080/"
        },
        "outputId": "65c6901a-92c5-4b76-d449-bdbeae44bcb6"
      },
      "source": [
        "print(3 < 8)\n",
        "\n",
        "a = 12\n",
        "b = a - 10\n",
        "print(a > b)\n",
        "print(16 != 16)\n",
        "print(2 < 5 > 10)\n",
        "print(3 <= 5 >= 2)"
      ],
      "execution_count": 119,
      "outputs": [
        {
          "output_type": "stream",
          "name": "stdout",
          "text": [
            "True\n",
            "True\n",
            "False\n",
            "False\n",
            "True\n"
          ]
        }
      ]
    },
    {
      "cell_type": "markdown",
      "metadata": {
        "id": "38fv7groq1TP"
      },
      "source": [
        "2. Verifique se as igualdades abaixo são verdadeiras:"
      ]
    },
    {
      "cell_type": "markdown",
      "metadata": {
        "id": "NVrRDMptq-XV"
      },
      "source": [
        "a) $2 \\times 2.0 = 4$"
      ]
    },
    {
      "cell_type": "code",
      "metadata": {
        "id": "WUKZ6b78rA7V"
      },
      "source": [
        "2 * 2.0 == 4"
      ],
      "execution_count": null,
      "outputs": []
    },
    {
      "cell_type": "markdown",
      "metadata": {
        "id": "tOJCnahPrD-W"
      },
      "source": [
        "b) $2 \\times 3 = 5$"
      ]
    },
    {
      "cell_type": "code",
      "metadata": {
        "id": "GkMDHX0vrEqZ"
      },
      "source": [
        "2 * 2 == 5"
      ],
      "execution_count": null,
      "outputs": []
    },
    {
      "cell_type": "markdown",
      "metadata": {
        "id": "bmiounPQrE7N"
      },
      "source": [
        "c) $4a + 3 = b$, para $a=3$ e $b=15$\n",
        "\n",
        "P.S.: primeiro declare as variáveis `a` e `b`"
      ]
    },
    {
      "cell_type": "code",
      "metadata": {
        "id": "gYX4EINtrHR9"
      },
      "source": [
        "a = 3\n",
        "b = 15\n",
        "4 * a + 3 == b"
      ],
      "execution_count": null,
      "outputs": []
    },
    {
      "cell_type": "markdown",
      "metadata": {
        "id": "8cxnTi98vCBA"
      },
      "source": [
        "3. Faça um programa que calcule as raízes de uma equação do segundo grau, na forma `ax² + bx + c`. O programa deverá pedir os valores de a, b e c e fazer as consistências, informando ao usuário nas seguintes situações:\n",
        "\n",
        "a) Se o usuário informar o valor de A igual a zero, a equação não é do segundo grau e o programa não deve pedir os demais valores, sendo encerrado;\n",
        "\n",
        "b) Se o delta calculado for negativo, a equação não possui raizes reais. Informe ao usuário e encerre o programa;\n",
        "\n",
        "c) Se o delta calculado for igual a zero a equação possui apenas uma raiz real; informe-a ao usuário;\n",
        "\n",
        "d) Se o delta for positivo, a equação possui duas raiz reais; informe-as ao usuário;"
      ]
    },
    {
      "cell_type": "code",
      "metadata": {
        "id": "OXnitl8yvPel"
      },
      "source": [
        "a = int(input('Insira o valor de a: '))\n",
        "\n",
        "if a != 0:\n",
        "\n",
        "  b = int(input('Insira o valor de b: '))\n",
        "  c = int(input('Insira o valor de c: '))\n",
        "\n",
        "  d = b**2 - 4*a*c\n",
        "\n",
        "  if d < 0:\n",
        "    print('O delta é negativo, logo a equação não possui raizes reais')\n",
        "  else:\n",
        "    x1 = (-b + d**(1/2)) / (2*a)\n",
        "    print(f\"x' = {x1}\")\n",
        "\n",
        "    if d == 1:\n",
        "      x2 = (-b - d**(1/2)) / (2*a)\n",
        "      print(f\"x'' = {x2}\")\n"
      ],
      "execution_count": null,
      "outputs": []
    },
    {
      "cell_type": "markdown",
      "metadata": {
        "id": "Hjpnzu9HvQiU"
      },
      "source": [
        "4. Faça um Programa que peça um número correspondente a um determinado ano e em seguida informe se este ano é ou não bissexto."
      ]
    },
    {
      "cell_type": "code",
      "metadata": {
        "id": "Lh2LloRVvTvc"
      },
      "source": [
        "ano = int(input('Informe o ano: '))\n",
        "\n",
        "if (ano % 4 == 0 and ano % 100 != 0) or (ano % 400 == 0):\n",
        "    print(f'{ano} é um ano bissexto')\n",
        "else:\n",
        "    print(f'{ano} não é um ano bissexto')\n"
      ],
      "execution_count": null,
      "outputs": []
    },
    {
      "cell_type": "markdown",
      "metadata": {
        "id": "XunttGjtvUH0"
      },
      "source": [
        "5. Faça um Programa que peça uma data no formato dd/mm/aaaa e determine se a mesma é uma data válida."
      ]
    },
    {
      "cell_type": "code",
      "source": [
        "dia, mes, ano = 28, 9, 2021\n",
        "\n",
        "if 0 < dia <= 31 and 0 < mes < 12:\n",
        "  print(dia, mes, ano)\n",
        "\n",
        "if 0 < dia <= 31:\n",
        "  if 0 < mes < 12:\n",
        "    if (mes == 2 or mes == 9 or mes == 12) and dia <= 28:"
      ],
      "metadata": {
        "id": "ViXDL7pqbjqG"
      },
      "execution_count": null,
      "outputs": []
    },
    {
      "cell_type": "code",
      "source": [
        "dia = int(input(\"Dia: \"))\n",
        "mes = int(input(\"Mes: \"))\n",
        "ano = input(\"Ano: \")\n",
        "\n",
        "validade = False\n",
        "\n",
        "if (mes==1 or mes==3 or mes == 5 or mes==7 or mes==8 or mes==10 or mes==12):\n",
        "  if (0 < dia <= 31):\n",
        "    validade = True\n",
        "elif (mes==4 or mes==6 or mes==9 or mes==11):\n",
        "  if (0 < dia <= 30):\n",
        "    validade = True\n",
        "elif mes==2:\n",
        "  if ((ano%4==0 and ano%100 != 0) or (ano%400==0)):\n",
        "    if (0 < dia <= 29):\n",
        "      validade = True\n",
        "  elif (0 < dia <= 28):\n",
        "    validade = True\n",
        "\n",
        "if (validade):\n",
        "  print(f\"Data válida: {dia}/{mes}/{ano}\")"
      ],
      "metadata": {
        "id": "g-eEmhQLDTXd"
      },
      "execution_count": null,
      "outputs": []
    },
    {
      "cell_type": "code",
      "source": [
        "from datetime import datetime\n",
        "\n",
        "data = input('Insira uma data no formato dd/mm/AAAA: ')\n",
        "\n",
        "try:\n",
        "  datetime.strptime(data, '%d/%m/%Y')\n",
        "  print('Data válida 👍')\n",
        "except:\n",
        "  print('Data inválida 🛑')\n",
        "\n",
        "print('testando')"
      ],
      "metadata": {
        "id": "NwfknWRnbll2"
      },
      "execution_count": null,
      "outputs": []
    },
    {
      "cell_type": "markdown",
      "metadata": {
        "id": "TgyLzECrvUnP"
      },
      "source": [
        "6. Faça um Programa que leia um número e exiba o dia correspondente da semana. (1-Domingo, 2- Segunda, etc.), se digitar outro valor deve aparecer valor inválido."
      ]
    },
    {
      "cell_type": "code",
      "metadata": {
        "id": "aDvuInTgvifq"
      },
      "source": [
        "dias = ['Domingo', 'Segunda', 'Terça', 'Quarta', 'Quinta', 'Sexta', 'Sábado']\n",
        "dia = int(input('Insira um número para o dia: '))\n",
        "\n",
        "if 0 < dia <= 7:\n",
        "  print(dias[dia-1])\n",
        "else:\n",
        "  print('🛑 Dia inválido!')"
      ],
      "execution_count": null,
      "outputs": []
    },
    {
      "cell_type": "markdown",
      "metadata": {
        "id": "Si_23BWYxrO5"
      },
      "source": [
        "7. Crie um programa para um circo, no qual dada a idade de uma pessoa, seja indicado o valor do ingresso segundo as regras:\n",
        "\n",
        "a) A entrada para qualquer pessoa com menos de 4 anos ou maior que 60 é gratuita;\n",
        "\n",
        "b) a entrada para qualquer pessoa com idade entre 4 e 18 custa 20 reais;\n",
        "\n",
        "c) a entrada para qualquer pessoa com 18 ou mais custa 30 reais;\n",
        "\n",
        "d) estudantes e professores pagam meia-entrada."
      ]
    },
    {
      "cell_type": "code",
      "metadata": {
        "id": "pNZbzASKxtzV"
      },
      "source": [
        "idade = int(input('Insira a idade: '))\n",
        "est_prof = True if input('É estudante ou professor? ').lower() == 'sim' else False\n",
        "\n",
        "ingresso = 0.0\n",
        "\n",
        "if 4 <= idade <= 18:\n",
        "  ingresso = 20.0\n",
        "elif 18 < idade < 60:\n",
        "  ingresso = 30.0\n",
        "\n",
        "if est_prof and ingresso != 0:\n",
        "  ingresso /= 2\n",
        "\n",
        "print(f'Valor do ingresso a ser pago: R${ingresso:.2f}')\n"
      ],
      "execution_count": null,
      "outputs": []
    },
    {
      "cell_type": "markdown",
      "metadata": {
        "id": "FR7yDSeiqG3C"
      },
      "source": [
        "8. Complete o código na célula abaixo para imprimir uma mensagem informando se um aluno foi aprovado ou reprovado em uma disciplina com base em sua nota final. A nota mínima necessária para aprovação é  5 ."
      ]
    },
    {
      "cell_type": "code",
      "metadata": {
        "id": "SOYR5rb_qJeM"
      },
      "source": [
        "notaAluno = 0 # insira aqui a nota do aluno\n",
        "\n",
        "# Complete o código abaixo\n",
        "if notaAluno >= 5:\n",
        "    print(\"Aprovado\")\n",
        "else:\n",
        "    print(\"Reprovado\")"
      ],
      "execution_count": null,
      "outputs": []
    },
    {
      "cell_type": "markdown",
      "metadata": {
        "id": "Hm-cqUzIqdiM"
      },
      "source": [
        "9. Construa uma pequena **chave dicotômica** para identificar uma determinada planta como membro de um dos principais grupos: *Bryophyta*, *Pteridophyta*, *Gymnospermae* ou *Angiospermae*.\n",
        "A identificação se dá com base na presença (1) ou ausência (0) de três caracteres: **vascularização**, **sementes** e **flores**.\n",
        "Utilize a tabela abaixo como referência."
      ]
    },
    {
      "cell_type": "markdown",
      "metadata": {
        "id": "rb-IaXMLqmwB"
      },
      "source": [
        "| Grupo | Vascularização| Sementes| Flores |\n",
        "|--|--|--|--|\n",
        "| Bryophyta | 0 | 0 | 0 |\n",
        "| Pteridophyta | 1| 0 | 0 |\n",
        "| Gymnospermae | 1 | 1 | 0 |\n",
        "| Angiospermae | 1 | 1 | 1 |\n"
      ]
    },
    {
      "cell_type": "code",
      "metadata": {
        "id": "zoQsaFZjqcxA",
        "colab": {
          "base_uri": "https://localhost:8080/"
        },
        "outputId": "065053ab-1e3d-4c4f-aaa9-f655400a648e"
      },
      "source": [
        "# Estas variáveis armazenam a presença (1) ou ausência (0) de cada caractere\n",
        "vasc = 0\n",
        "sem = 0\n",
        "flor = 0\n",
        "\n",
        "# Seu código aqui\n",
        "if flor:\n",
        "  tipo = \"Angiospermae\"\n",
        "else:\n",
        "  if sem:\n",
        "    tipo = \"Gymnospermae\"\n",
        "  else:\n",
        "    tipo = \"Pteridophyta\" if vasc else \"Bryophyta\"\n",
        "\n",
        "print(tipo)"
      ],
      "execution_count": 120,
      "outputs": [
        {
          "output_type": "stream",
          "name": "stdout",
          "text": [
            "Bryophyta\n"
          ]
        }
      ]
    },
    {
      "cell_type": "code",
      "source": [
        "# Estas variáveis armazenam a presença (1) ou ausência (0) de cada caractere\n",
        "vasc = 1\n",
        "sem = 0\n",
        "flor = 0\n",
        "\n",
        "# Seu código aqui\n",
        "b = ['Bryophyta', 0, 0, 0]\n",
        "p = ['Pteridophyta', 1, 0, 0]\n",
        "g = ['Gymnospermae', 1, 1, 0]\n",
        "a = ['Angiospermae', 1, 1, 1]\n",
        "\n",
        "cd = [b, p, g, a]\n",
        "\n",
        "especie = [vasc, sem, flor]\n",
        "for opcao in cd:\n",
        "  if especie == opcao[1:]:\n",
        "    print(opcao[0])\n"
      ],
      "metadata": {
        "id": "zj-unYMLbttG",
        "colab": {
          "base_uri": "https://localhost:8080/"
        },
        "outputId": "33439393-fbca-4872-bcf1-ca136d74464d"
      },
      "execution_count": 121,
      "outputs": [
        {
          "output_type": "stream",
          "name": "stdout",
          "text": [
            "Pteridophyta\n"
          ]
        }
      ]
    },
    {
      "cell_type": "markdown",
      "metadata": {
        "id": "aNI2VzpEsuSo"
      },
      "source": [
        "10. Um posto está vendendo combustíveis com a seguinte tabela de descontos:\n",
        "\n",
        "a. Álcool:\n",
        "\n",
        "    até 20 litros, desconto de 3% por litro\n",
        "    acima de 20 litros, desconto de 5% por litro\n",
        "\n",
        "b. Gasolina:\n",
        "\n",
        "    até 20 litros, desconto de 4% por litro\n",
        "    acima de 20 litros, desconto de 6% por litro\n",
        "\n",
        "Escreva um algoritmo que leia o número de litros vendidos, o tipo de combustível (codificado da seguinte forma: A-álcool, G-gasolina), calcule e imprima o valor a ser pago pelo cliente sabendo-se que o preço do litro da gasolina é 2.50 o preço do litro do álcool é 1,90."
      ]
    },
    {
      "cell_type": "code",
      "metadata": {
        "id": "D3MJKrgxtlzb"
      },
      "source": [
        "litros = float(input(\"Digite quantos litros você quer abastecer: \"))\n",
        "combustivel = input(\"Digite A para álcool ou G para gasolina: \")\n",
        "preco = 0\n",
        "if combustivel == \"A\" or combustivel == \"a\":\n",
        "    preco = litros * 1.9\n",
        "    if litros <= 20:\n",
        "        preco -= 1.9 * litros * 3 / 100\n",
        "    else:\n",
        "        preco -= 1.9 * litros * 5 / 100\n",
        "elif combustivel == \"G\" or combustivel == \"g\":\n",
        "    preco = litros * 2.5\n",
        "    if litros <= 20:\n",
        "        preco -= 2.5 * litros * 4 / 100\n",
        "    else:\n",
        "        preco -= 2.5 * litros * 6 / 100\n",
        "print(f\"O preço a pagar é R${preco:.2f}\")"
      ],
      "execution_count": null,
      "outputs": []
    },
    {
      "cell_type": "markdown",
      "metadata": {
        "id": "wpMhfBBetmCa"
      },
      "source": [
        "11. Faça um Programa que leia 2 números e em seguida pergunte ao usuário qual operação ele deseja realizar. O resultado da operação deve ser acompanhado de uma frase que diga se o número é:\n",
        "\n",
        "a. par ou ímpar;\n",
        "\n",
        "b. positivo ou negativo;\n",
        "\n",
        "c. inteiro ou decimal."
      ]
    },
    {
      "cell_type": "code",
      "metadata": {
        "id": "ypcUM1gvtuVY"
      },
      "source": [
        "numero_1 = float(input(\"Digite o primeiro numero: \"))\n",
        "numero_2 = float(input(\"Digite o segundo numero: \"))\n",
        "op = input(\"Qual operação tu vai realizar (+,-): \")\n",
        "\n",
        "resultado = 0\n",
        "if op == '+':\n",
        "  resultado = numero_1 + numero_2\n",
        "elif op == '-':\n",
        "    resultado = numero_1 - numero_2\n",
        "\n",
        "print(\"Resultado da operação é {}\".format(resultado))\n",
        "\n",
        "par = int(resultado) % 2 == 0\n",
        "if par:\n",
        "  print(\"O resultado da sua operação resultou em numero par\")\n",
        "else:\n",
        "  print(\"O resultado da sua operação resultou em numero impar\")\n",
        "\n",
        "positivo = resultado >=0\n",
        "if positivo:\n",
        "  print(\"O resultado da sua operação resultou em numero positivo\")\n",
        "else:\n",
        "  print(\"O resultado da sua operação resultou em numero negativo\")\n",
        "\n",
        "inteiro = resultado-int(resultado) == 0\n",
        "# inteiro = resultado % 1 == 0\n",
        "if inteiro:\n",
        "  print(\"O resultado da sua operação resultou em numero inteiro\")\n",
        "else:\n",
        "  print(\"O resultado da sua operação resultou em numero decimal\")\n"
      ],
      "execution_count": null,
      "outputs": []
    }
  ]
}